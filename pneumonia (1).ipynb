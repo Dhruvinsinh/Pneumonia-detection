{
  "nbformat": 4,
  "nbformat_minor": 0,
  "metadata": {
    "colab": {
      "name": "pneumonia.ipynb",
      "provenance": []
    },
    "kernelspec": {
      "name": "python3",
      "display_name": "Python 3"
    }
  },
  "cells": [
    {
      "cell_type": "code",
      "metadata": {
        "id": "JPi0Hb8aHqZ1",
        "colab": {
          "base_uri": "https://localhost:8080/",
          "height": 766
        },
        "outputId": "68a7d7d0-1cbc-45b7-9756-cfa77ff8bbfb"
      },
      "source": [
        "import os\n",
        "from PIL import Image\n",
        "import numpy as np\n",
        "path=\"/content/drive/My Drive/manual_process/test_process_normal\"\n",
        "imagePaths = [os.path.join(path,f) for f in os.listdir(path)]\n",
        "inp=[]\n",
        "y=[]\n",
        "for imagePath in imagePaths:\n",
        "  im = Image.open(imagePath)\n",
        "  #print(np.array(im).reshape(128,128,1).shape)\n",
        "  inp.append(np.array(im).reshape(128,128,1))\n",
        "  y.append([0])\n"
      ],
      "execution_count": null,
      "outputs": [
        {
          "output_type": "stream",
          "text": [
            "ERROR:root:Internal Python error in the inspect module.\n",
            "Below is the traceback from this internal error.\n",
            "\n"
          ],
          "name": "stderr"
        },
        {
          "output_type": "stream",
          "text": [
            "Traceback (most recent call last):\n",
            "  File \"/usr/local/lib/python3.6/dist-packages/IPython/core/interactiveshell.py\", line 2882, in run_code\n",
            "    exec(code_obj, self.user_global_ns, self.user_ns)\n",
            "  File \"<ipython-input-3-566f1f136993>\", line 9, in <module>\n",
            "    im = Image.open(imagePath)\n",
            "  File \"/usr/local/lib/python3.6/dist-packages/PIL/Image.py\", line 2818, in open\n",
            "    prefix = fp.read(16)\n",
            "KeyboardInterrupt\n",
            "\n",
            "During handling of the above exception, another exception occurred:\n",
            "\n",
            "Traceback (most recent call last):\n",
            "  File \"/usr/local/lib/python3.6/dist-packages/IPython/core/interactiveshell.py\", line 1823, in showtraceback\n",
            "    stb = value._render_traceback_()\n",
            "AttributeError: 'KeyboardInterrupt' object has no attribute '_render_traceback_'\n",
            "\n",
            "During handling of the above exception, another exception occurred:\n",
            "\n",
            "Traceback (most recent call last):\n",
            "  File \"/usr/local/lib/python3.6/dist-packages/IPython/core/ultratb.py\", line 1132, in get_records\n",
            "    return _fixed_getinnerframes(etb, number_of_lines_of_context, tb_offset)\n",
            "  File \"/usr/local/lib/python3.6/dist-packages/IPython/core/ultratb.py\", line 313, in wrapped\n",
            "    return f(*args, **kwargs)\n",
            "  File \"/usr/local/lib/python3.6/dist-packages/IPython/core/ultratb.py\", line 358, in _fixed_getinnerframes\n",
            "    records = fix_frame_records_filenames(inspect.getinnerframes(etb, context))\n",
            "  File \"/usr/lib/python3.6/inspect.py\", line 1490, in getinnerframes\n",
            "    frameinfo = (tb.tb_frame,) + getframeinfo(tb, context)\n",
            "  File \"/usr/lib/python3.6/inspect.py\", line 1452, in getframeinfo\n",
            "    lines, lnum = findsource(frame)\n",
            "  File \"/usr/local/lib/python3.6/dist-packages/IPython/core/ultratb.py\", line 182, in findsource\n",
            "    lines = linecache.getlines(file, globals_dict)\n",
            "  File \"/usr/lib/python3.6/linecache.py\", line 47, in getlines\n",
            "    return updatecache(filename, module_globals)\n",
            "  File \"/usr/lib/python3.6/linecache.py\", line 137, in updatecache\n",
            "    lines = fp.readlines()\n",
            "  File \"/usr/lib/python3.6/codecs.py\", line 318, in decode\n",
            "    def decode(self, input, final=False):\n",
            "KeyboardInterrupt\n"
          ],
          "name": "stdout"
        },
        {
          "output_type": "error",
          "ename": "KeyboardInterrupt",
          "evalue": "ignored",
          "traceback": [
            "\u001b[0;31m---------------------------------------------------------------------------\u001b[0m"
          ]
        }
      ]
    },
    {
      "cell_type": "code",
      "metadata": {
        "id": "U0jIqY6SJrft"
      },
      "source": [
        "import os\n",
        "from PIL import Image\n",
        "import numpy as np\n",
        "path=\"/content/drive/My Drive/manual_process/test_process_notnormal\"\n",
        "imagePaths = [os.path.join(path,f) for f in os.listdir(path)]\n",
        "for imagePath in imagePaths:\n",
        "  im = Image.open(imagePath)\n",
        "  #print(np.array(im).reshape(128,128,1).shape)\n",
        "  inp.append(np.array(im).reshape(128,128,1))\n",
        "  y.append([1])\n"
      ],
      "execution_count": null,
      "outputs": []
    },
    {
      "cell_type": "code",
      "metadata": {
        "id": "ByKD4pi-KpOy"
      },
      "source": [
        "import pickle\n",
        "with open('/content/drive/My Drive/manual_process/inp.pkl','wb') as f:\n",
        "     pickle.dump(inp, f)\n",
        "with open('/content/drive/My Drive/manual_process/out.pkl','wb') as f:\n",
        "     pickle.dump(y, f)"
      ],
      "execution_count": null,
      "outputs": []
    },
    {
      "cell_type": "code",
      "metadata": {
        "id": "juuiOnm9G3lE"
      },
      "source": [
        "import pickle\n",
        "import pandas as pd\n",
        "inp=pd.read_pickle('/content/drive/My Drive/manual_process/inp.pkl')\n",
        "y=pd.read_pickle('/content/drive/My Drive/manual_process/out.pkl')"
      ],
      "execution_count": 1,
      "outputs": []
    },
    {
      "cell_type": "code",
      "metadata": {
        "id": "ZxwY9lwgLXmM",
        "colab": {
          "base_uri": "https://localhost:8080/",
          "height": 314
        },
        "outputId": "4b7ceb27-240b-41ee-cd1a-fa2922752a20"
      },
      "source": [
        "import pandas as pd\n",
        "y=pd.DataFrame(y)\n",
        "y.hist()"
      ],
      "execution_count": 2,
      "outputs": [
        {
          "output_type": "execute_result",
          "data": {
            "text/plain": [
              "array([[<matplotlib.axes._subplots.AxesSubplot object at 0x7fb300323be0>]],\n",
              "      dtype=object)"
            ]
          },
          "metadata": {
            "tags": []
          },
          "execution_count": 2
        },
        {
          "output_type": "display_data",
          "data": {
            "image/png": "[encoded data removed]",
            "text/plain": [
              "<Figure size 432x288 with 1 Axes>"
            ]
          },
          "metadata": {
            "tags": [],
            "needs_background": "light"
          }
        }
      ]
    },
    {
      "cell_type": "code",
      "metadata": {
        "id": "1YvvC6ydJ2Jc"
      },
      "source": [
        "from sklearn.model_selection import train_test_split\n",
        "X_train, X_test, y_train, y_test = train_test_split(inp,y, test_size=0.33, random_state=42)"
      ],
      "execution_count": 3,
      "outputs": []
    },
    {
      "cell_type": "code",
      "metadata": {
        "id": "4sO9cC7CNIwo"
      },
      "source": [
        "import numpy as np\n",
        "X_train=np.array(X_train)\n",
        "X_test=np.array(X_test)"
      ],
      "execution_count": 4,
      "outputs": []
    },
    {
      "cell_type": "code",
      "metadata": {
        "id": "jjd9UK-jMU64",
        "colab": {
          "base_uri": "https://localhost:8080/"
        },
        "outputId": "4b531fc3-6361-4dbf-f8ba-e1980e918868"
      },
      "source": [
        "X_train.shape"
      ],
      "execution_count": 5,
      "outputs": [
        {
          "output_type": "execute_result",
          "data": {
            "text/plain": [
              "(313, 128, 128, 1)"
            ]
          },
          "metadata": {
            "tags": []
          },
          "execution_count": 5
        }
      ]
    },
    {
      "cell_type": "code",
      "metadata": {
        "id": "0OQ1_Da_Ll-5",
        "colab": {
          "base_uri": "https://localhost:8080/",
          "height": 314
        },
        "outputId": "cc685d19-9214-4f86-cc28-61fc6205d51d"
      },
      "source": [
        "y_train.hist() "
      ],
      "execution_count": 6,
      "outputs": [
        {
          "output_type": "execute_result",
          "data": {
            "text/plain": [
              "array([[<matplotlib.axes._subplots.AxesSubplot object at 0x7fb2f4b87e80>]],\n",
              "      dtype=object)"
            ]
          },
          "metadata": {
            "tags": []
          },
          "execution_count": 6
        },
        {
          "output_type": "display_data",
          "data": {
            "image/png": "[encoded data removed]",
            "text/plain": [
              "<Figure size 432x288 with 1 Axes>"
            ]
          },
          "metadata": {
            "tags": [],
            "needs_background": "light"
          }
        }
      ]
    },
    {
      "cell_type": "code",
      "metadata": {
        "id": "rrQqW8LZLvkh",
        "colab": {
          "base_uri": "https://localhost:8080/",
          "height": 314
        },
        "outputId": "2d6ae73a-92d1-484a-97f9-40e9c8cf126f"
      },
      "source": [
        "y_test.hist()"
      ],
      "execution_count": 7,
      "outputs": [
        {
          "output_type": "execute_result",
          "data": {
            "text/plain": [
              "array([[<matplotlib.axes._subplots.AxesSubplot object at 0x7fb3013a1748>]],\n",
              "      dtype=object)"
            ]
          },
          "metadata": {
            "tags": []
          },
          "execution_count": 7
        },
        {
          "output_type": "display_data",
          "data": {
            "image/png": "[encoded data removed]",
            "text/plain": [
              "<Figure size 432x288 with 1 Axes>"
            ]
          },
          "metadata": {
            "tags": [],
            "needs_background": "light"
          }
        }
      ]
    },
    {
      "cell_type": "code",
      "metadata": {
        "id": "6XK7hW4ZLxWk",
        "colab": {
          "base_uri": "https://localhost:8080/"
        },
        "outputId": "9ade5f58-8365-4cde-ba9c-d7b9e49864ff"
      },
      "source": [
        "from tensorflow import keras\n",
        "model=keras.Sequential()\n",
        "model.add(keras.layers.InputLayer(input_shape=(128,128,1)))\n",
        "model.add(keras.layers.BatchNormalization())\n",
        "model.add(keras.layers.Conv2D(32,kernel_size=(3,3),activation='relu'))\n",
        "model.add(keras.layers.Conv2D(64,kernel_size=(3,3),activation='relu'))\n",
        "model.add(keras.layers.MaxPool2D(pool_size=(2,2)))\n",
        "model.add(keras.layers.Dropout(0.5))\n",
        "model.add(keras.layers.Flatten())\n",
        "model.add(keras.layers.Dropout(0.5))\n",
        "model.add(keras.layers.Dense(1,activation='sigmoid'))\n",
        "model.compile(optimizer=keras.optimizers.Adam(learning_rate=0.001),loss='binary_crossentropy',metrics=['accuracy'])\n",
        "model.fit(X_train,y_train,batch_size=10,epochs=5,validation_split=0.2)"
      ],
      "execution_count": 8,
      "outputs": [
        {
          "output_type": "stream",
          "text": [
            "Epoch 1/5\n",
            "25/25 [==============================] - 15s 594ms/step - loss: 0.5154 - accuracy: 0.7400 - val_loss: 0.2753 - val_accuracy: 0.9048\n",
            "Epoch 2/5\n",
            "25/25 [==============================] - 15s 581ms/step - loss: 0.3340 - accuracy: 0.8560 - val_loss: 0.4181 - val_accuracy: 0.8095\n",
            "Epoch 3/5\n",
            "25/25 [==============================] - 15s 581ms/step - loss: 0.2267 - accuracy: 0.9080 - val_loss: 0.2103 - val_accuracy: 0.9048\n",
            "Epoch 4/5\n",
            "25/25 [==============================] - 15s 580ms/step - loss: 0.1507 - accuracy: 0.9520 - val_loss: 0.2822 - val_accuracy: 0.8889\n",
            "Epoch 5/5\n",
            "25/25 [==============================] - 15s 581ms/step - loss: 0.1206 - accuracy: 0.9560 - val_loss: 0.2147 - val_accuracy: 0.9206\n"
          ],
          "name": "stdout"
        },
        {
          "output_type": "execute_result",
          "data": {
            "text/plain": [
              "<tensorflow.python.keras.callbacks.History at 0x7fb2be2291d0>"
            ]
          },
          "metadata": {
            "tags": []
          },
          "execution_count": 8
        }
      ]
    },
    {
      "cell_type": "code",
      "metadata": {
        "id": "BgxA5F0iQpr2",
        "colab": {
          "base_uri": "https://localhost:8080/"
        },
        "outputId": "d0e9a65a-9d6e-4826-cd54-c6e2fd5eabc7"
      },
      "source": [
        "model.summary()"
      ],
      "execution_count": 9,
      "outputs": [
        {
          "output_type": "stream",
          "text": [
            "Model: \"sequential\"\n",
            "_________________________________________________________________\n",
            "Layer (type)                 Output Shape              Param #   \n",
            "=================================================================\n",
            "batch_normalization (BatchNo (None, 128, 128, 1)       4         \n",
            "_________________________________________________________________\n",
            "conv2d (Conv2D)              (None, 126, 126, 32)      320       \n",
            "_________________________________________________________________\n",
            "conv2d_1 (Conv2D)            (None, 124, 124, 64)      18496     \n",
            "_________________________________________________________________\n",
            "max_pooling2d (MaxPooling2D) (None, 62, 62, 64)        0         \n",
            "_________________________________________________________________\n",
            "dropout (Dropout)            (None, 62, 62, 64)        0         \n",
            "_________________________________________________________________\n",
            "flatten (Flatten)            (None, 246016)            0         \n",
            "_________________________________________________________________\n",
            "dropout_1 (Dropout)          (None, 246016)            0         \n",
            "_________________________________________________________________\n",
            "dense (Dense)                (None, 1)                 246017    \n",
            "=================================================================\n",
            "Total params: 264,837\n",
            "Trainable params: 264,835\n",
            "Non-trainable params: 2\n",
            "_________________________________________________________________\n"
          ],
          "name": "stdout"
        }
      ]
    },
    {
      "cell_type": "code",
      "metadata": {
        "id": "TEN5Mlp4QvGc",
        "colab": {
          "base_uri": "https://localhost:8080/"
        },
        "outputId": "fbe9a6cf-6d41-4aec-d314-13265ebcc69b"
      },
      "source": [
        "y_pred=model.predict_classes(X_test)\n",
        "from sklearn.metrics import accuracy_score\n",
        "accuracy_score(y_pred, y_test)"
      ],
      "execution_count": 10,
      "outputs": [
        {
          "output_type": "stream",
          "text": [
            "WARNING:tensorflow:From <ipython-input-10-cf35fd685528>:1: Sequential.predict_classes (from tensorflow.python.keras.engine.sequential) is deprecated and will be removed after 2021-01-01.\n",
            "Instructions for updating:\n",
            "Please use instead:* `np.argmax(model.predict(x), axis=-1)`,   if your model does multi-class classification   (e.g. if it uses a `softmax` last-layer activation).* `(model.predict(x) > 0.5).astype(\"int32\")`,   if your model does binary classification   (e.g. if it uses a `sigmoid` last-layer activation).\n"
          ],
          "name": "stdout"
        },
        {
          "output_type": "execute_result",
          "data": {
            "text/plain": [
              "0.8903225806451613"
            ]
          },
          "metadata": {
            "tags": []
          },
          "execution_count": 10
        }
      ]
    },
    {
      "cell_type": "code",
      "metadata": {
        "id": "SUyuO9A7Q1uz"
      },
      "source": [
        "#model.save('/content/drive/My Drive/manual_process/model1.h5')"
      ],
      "execution_count": 11,
      "outputs": []
    },
    {
      "cell_type": "code",
      "metadata": {
        "id": "LGMFJ4zRQV6w",
        "colab": {
          "base_uri": "https://localhost:8080/"
        },
        "outputId": "60a5aa51-3a01-4685-d1a6-9333c1995b36"
      },
      "source": [
        "xfrom tensorflow import keras\n",
        "model1=keras.Sequential()\n",
        "model1.add(keras.layers.InputLayer(input_shape=(128,128,1)))\n",
        "model1.add(keras.layers.BatchNormalization())\n",
        "model1.add(keras.layers.Conv2D(16,kernel_size=(3,3),activation='relu'))\n",
        "model1.add(keras.layers.Conv2D(32,kernel_size=(3,3),activation='relu'))\n",
        "model1.add(keras.layers.MaxPool2D(pool_size=(2,2)))\n",
        "model1.add(keras.layers.Dropout(0.5))\n",
        "model1.add(keras.layers.Flatten())\n",
        "model1.add(keras.layers.Dropout(0.5))\n",
        "model1.add(keras.layers.Dense(1,activation='sigmoid'))\n",
        "model1.compile(optimizer=keras.optimizers.Adam(learning_rate=0.001),loss='binary_crossentropy',metrics=['accuracy'])\n",
        "model1.fit(X_train,y_train,batch_size=10,epochs=5,validation_split=0.2)"
      ],
      "execution_count": null,
      "outputs": [
        {
          "output_type": "stream",
          "text": [
            "Epoch 1/5\n",
            "25/25 [==============================] - 8s 302ms/step - loss: 0.6126 - accuracy: 0.7200 - val_loss: 0.4567 - val_accuracy: 0.7778\n",
            "Epoch 2/5\n",
            "25/25 [==============================] - 7s 299ms/step - loss: 0.3852 - accuracy: 0.8320 - val_loss: 0.2193 - val_accuracy: 0.8730\n",
            "Epoch 3/5\n",
            "25/25 [==============================] - 8s 302ms/step - loss: 0.2830 - accuracy: 0.8920 - val_loss: 0.1789 - val_accuracy: 0.9365\n",
            "Epoch 4/5\n",
            "25/25 [==============================] - 8s 304ms/step - loss: 0.1645 - accuracy: 0.9520 - val_loss: 0.2103 - val_accuracy: 0.9048\n",
            "Epoch 5/5\n",
            "25/25 [==============================] - 8s 304ms/step - loss: 0.1244 - accuracy: 0.9520 - val_loss: 0.2978 - val_accuracy: 0.8413\n"
          ],
          "name": "stdout"
        },
        {
          "output_type": "execute_result",
          "data": {
            "text/plain": [
              "<tensorflow.python.keras.callbacks.History at 0x7f5345bc2cc0>"
            ]
          },
          "metadata": {
            "tags": []
          },
          "execution_count": 19
        }
      ]
    },
    {
      "cell_type": "code",
      "metadata": {
        "id": "qnns8efoMJY1",
        "colab": {
          "base_uri": "https://localhost:8080/"
        },
        "outputId": "6cfc83d8-05e8-49d1-8491-b660a78c75a7"
      },
      "source": [
        "model1.summary()"
      ],
      "execution_count": null,
      "outputs": [
        {
          "output_type": "stream",
          "text": [
            "Model: \"sequential_1\"\n",
            "_________________________________________________________________\n",
            "Layer (type)                 Output Shape              Param #   \n",
            "=================================================================\n",
            "batch_normalization_1 (Batch (None, 128, 128, 1)       4         \n",
            "_________________________________________________________________\n",
            "conv2d_2 (Conv2D)            (None, 126, 126, 16)      160       \n",
            "_________________________________________________________________\n",
            "conv2d_3 (Conv2D)            (None, 124, 124, 32)      4640      \n",
            "_________________________________________________________________\n",
            "max_pooling2d_1 (MaxPooling2 (None, 62, 62, 32)        0         \n",
            "_________________________________________________________________\n",
            "dropout_2 (Dropout)          (None, 62, 62, 32)        0         \n",
            "_________________________________________________________________\n",
            "flatten_1 (Flatten)          (None, 123008)            0         \n",
            "_________________________________________________________________\n",
            "dropout_3 (Dropout)          (None, 123008)            0         \n",
            "_________________________________________________________________\n",
            "dense_1 (Dense)              (None, 1)                 123009    \n",
            "=================================================================\n",
            "Total params: 127,813\n",
            "Trainable params: 127,811\n",
            "Non-trainable params: 2\n",
            "_________________________________________________________________\n"
          ],
          "name": "stdout"
        }
      ]
    },
    {
      "cell_type": "code",
      "metadata": {
        "id": "GpMI0BmQOFOq",
        "colab": {
          "base_uri": "https://localhost:8080/"
        },
        "outputId": "cb61fb21-ceb2-4fe0-b60e-41639a06665d"
      },
      "source": [
        "y_pred=model1.predict_classes(X_test)\n",
        "from sklearn.metrics import accuracy_score\n",
        "accuracy_score(y_pred, y_test)"
      ],
      "execution_count": null,
      "outputs": [
        {
          "output_type": "execute_result",
          "data": {
            "text/plain": [
              "0.8451612903225807"
            ]
          },
          "metadata": {
            "tags": []
          },
          "execution_count": 21
        }
      ]
    },
    {
      "cell_type": "code",
      "metadata": {
        "id": "dDh0wSuqSWxg"
      },
      "source": [
        "#model1.save('/content/drive/My Drive/manual_process/model2.h5')"
      ],
      "execution_count": null,
      "outputs": []
    },
    {
      "cell_type": "code",
      "metadata": {
        "id": "g6akxreDSeE9",
        "colab": {
          "base_uri": "https://localhost:8080/"
        },
        "outputId": "06b3dbfe-3d12-4834-efeb-b2815c816d23"
      },
      "source": [
        "from tensorflow import keras\n",
        "model1=keras.Sequential()\n",
        "model1.add(keras.layers.InputLayer(input_shape=(128,128,1)))\n",
        "model1.add(keras.layers.BatchNormalization())\n",
        "model1.add(keras.layers.Conv2D(64,kernel_size=(3,3),activation='relu'))\n",
        "model1.add(keras.layers.Conv2D(128,kernel_size=(3,3),activation='relu'))\n",
        "model1.add(keras.layers.MaxPool2D(pool_size=(2,2)))\n",
        "model1.add(keras.layers.Dropout(0.5))\n",
        "model1.add(keras.layers.Flatten())\n",
        "model1.add(keras.layers.Dropout(0.5))\n",
        "model1.add(keras.layers.Dense(1,activation='sigmoid'))\n",
        "model1.compile(optimizer=keras.optimizers.Adam(learning_rate=0.001),loss='binary_crossentropy',metrics=['accuracy'])\n",
        "model1.fit(X_train,y_train,batch_size=10,epochs=3,validation_split=0.2)"
      ],
      "execution_count": null,
      "outputs": [
        {
          "output_type": "stream",
          "text": [
            "Epoch 1/3\n",
            "25/25 [==============================] - 47s 2s/step - loss: 0.6745 - accuracy: 0.6760 - val_loss: 0.4182 - val_accuracy: 0.8254\n",
            "Epoch 2/3\n",
            "25/25 [==============================] - 45s 2s/step - loss: 0.3357 - accuracy: 0.8720 - val_loss: 1.1626 - val_accuracy: 0.6349\n",
            "Epoch 3/3\n",
            "25/25 [==============================] - 46s 2s/step - loss: 0.2149 - accuracy: 0.9040 - val_loss: 1.2022 - val_accuracy: 0.6508\n"
          ],
          "name": "stdout"
        },
        {
          "output_type": "execute_result",
          "data": {
            "text/plain": [
              "<tensorflow.python.keras.callbacks.History at 0x7f5345228f60>"
            ]
          },
          "metadata": {
            "tags": []
          },
          "execution_count": 23
        }
      ]
    },
    {
      "cell_type": "code",
      "metadata": {
        "id": "l5cO0mCDTLtd",
        "colab": {
          "base_uri": "https://localhost:8080/"
        },
        "outputId": "1addcf41-58b9-429d-850e-b16e64f1f370"
      },
      "source": [
        "model1.summary()"
      ],
      "execution_count": null,
      "outputs": [
        {
          "output_type": "stream",
          "text": [
            "Model: \"sequential_2\"\n",
            "_________________________________________________________________\n",
            "Layer (type)                 Output Shape              Param #   \n",
            "=================================================================\n",
            "batch_normalization_2 (Batch (None, 128, 128, 1)       4         \n",
            "_________________________________________________________________\n",
            "conv2d_4 (Conv2D)            (None, 126, 126, 64)      640       \n",
            "_________________________________________________________________\n",
            "conv2d_5 (Conv2D)            (None, 124, 124, 128)     73856     \n",
            "_________________________________________________________________\n",
            "max_pooling2d_2 (MaxPooling2 (None, 62, 62, 128)       0         \n",
            "_________________________________________________________________\n",
            "dropout_4 (Dropout)          (None, 62, 62, 128)       0         \n",
            "_________________________________________________________________\n",
            "flatten_2 (Flatten)          (None, 492032)            0         \n",
            "_________________________________________________________________\n",
            "dropout_5 (Dropout)          (None, 492032)            0         \n",
            "_________________________________________________________________\n",
            "dense_2 (Dense)              (None, 1)                 492033    \n",
            "=================================================================\n",
            "Total params: 566,533\n",
            "Trainable params: 566,531\n",
            "Non-trainable params: 2\n",
            "_________________________________________________________________\n"
          ],
          "name": "stdout"
        }
      ]
    },
    {
      "cell_type": "code",
      "metadata": {
        "id": "vZ0HmZfxTOqG",
        "colab": {
          "base_uri": "https://localhost:8080/"
        },
        "outputId": "b06e1609-c150-48ae-dbc2-1b4a2fb039d4"
      },
      "source": [
        "y_pred=model1.predict_classes(X_test)\n",
        "from sklearn.metrics import accuracy_score\n",
        "accuracy_score(y_pred, y_test)"
      ],
      "execution_count": null,
      "outputs": [
        {
          "output_type": "execute_result",
          "data": {
            "text/plain": [
              "0.6"
            ]
          },
          "metadata": {
            "tags": []
          },
          "execution_count": 25
        }
      ]
    },
    {
      "cell_type": "code",
      "metadata": {
        "id": "F9YQ3_S3TbRH"
      },
      "source": [
        "#model1.save('/content/drive/My Drive/manual_process/model3.h5')"
      ],
      "execution_count": null,
      "outputs": []
    },
    {
      "cell_type": "code",
      "metadata": {
        "id": "7R3H60-YTfhE"
      },
      "source": [
        "from keras.models import load_model\n",
        "m1 = load_model('/content/drive/My Drive/manual_process/model1.h5')\n",
        "m2 = load_model('/content/drive/My Drive/manual_process/model2.h5')\n",
        "m3 = load_model('/content/drive/My Drive/manual_process/model3.h5')"
      ],
      "execution_count": null,
      "outputs": []
    },
    {
      "cell_type": "code",
      "metadata": {
        "id": "VvLr4GpJPz_D",
        "colab": {
          "base_uri": "https://localhost:8080/"
        },
        "outputId": "eb6aae92-1402-43ac-be19-bef846c4f134"
      },
      "source": [
        "y1=m1.predict_proba(X_test)\n",
        "y2=model1.predict_proba(X_test)\n",
        "y3=m2.predict_proba(X_test)\n",
        "y1=(y1+y2+y3)/3\n",
        "y3=y1.round()\n",
        "accuracy_score(y3, y_test)"
      ],
      "execution_count": null,
      "outputs": [
        {
          "output_type": "stream",
          "text": [
            "WARNING:tensorflow:From <ipython-input-28-28dd083c6e82>:1: Sequential.predict_proba (from tensorflow.python.keras.engine.sequential) is deprecated and will be removed after 2021-01-01.\n",
            "Instructions for updating:\n",
            "Please use `model.predict()` instead.\n"
          ],
          "name": "stdout"
        },
        {
          "output_type": "stream",
          "text": [
            "WARNING:tensorflow:From <ipython-input-28-28dd083c6e82>:1: Sequential.predict_proba (from tensorflow.python.keras.engine.sequential) is deprecated and will be removed after 2021-01-01.\n",
            "Instructions for updating:\n",
            "Please use `model.predict()` instead.\n"
          ],
          "name": "stderr"
        },
        {
          "output_type": "execute_result",
          "data": {
            "text/plain": [
              "0.9032258064516129"
            ]
          },
          "metadata": {
            "tags": []
          },
          "execution_count": 28
        }
      ]
    },
    {
      "cell_type": "code",
      "metadata": {
        "id": "7X7--LdgIW-J"
      },
      "source": [
        ""
      ],
      "execution_count": null,
      "outputs": []
    }
  ]
}