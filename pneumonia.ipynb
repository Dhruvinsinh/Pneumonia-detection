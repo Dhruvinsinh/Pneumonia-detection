{
  "nbformat": 4,
  "nbformat_minor": 0,
  "metadata": {
    "colab": {
      "provenance": []
    },
    "kernelspec": {
      "name": "python3",
      "display_name": "Python 3"
    }
  },
  "cells": [
    {
      "cell_type": "code",
      "metadata": {
        "id": "JPi0Hb8aHqZ1"
      },
      "source": [
        "import os\n",
        "from PIL import Image\n",
        "import numpy as np\n",
        "path=\"/content/drive/My Drive/manual_process/test_process_normal\"\n",
        "imagePaths = [os.path.join(path,f) for f in os.listdir(path)]\n",
        "inp=[]\n",
        "y=[]\n",
        "for imagePath in imagePaths:\n",
        "  im = Image.open(imagePath)\n",
        "  #print(np.array(im).reshape(128,128,1).shape)\n",
        "  inp.append(np.array(im).reshape(128,128,1))\n",
        "  y.append([0])\n"
      ],
      "execution_count": 1,
      "outputs": []
    },
    {
      "cell_type": "code",
      "metadata": {
        "id": "U0jIqY6SJrft"
      },
      "source": [
        "import os\n",
        "from PIL import Image\n",
        "import numpy as np\n",
        "path=\"/content/drive/My Drive/manual_process/test_process_notnormal\"\n",
        "imagePaths = [os.path.join(path,f) for f in os.listdir(path)]\n",
        "for imagePath in imagePaths:\n",
        "  im = Image.open(imagePath)\n",
        "  #print(np.array(im).reshape(128,128,1).shape)\n",
        "  inp.append(np.array(im).reshape(128,128,1))\n",
        "  y.append([1])\n"
      ],
      "execution_count": 2,
      "outputs": []
    },
    {
      "cell_type": "code",
      "metadata": {
        "id": "ByKD4pi-KpOy",
        "colab": {
          "base_uri": "https://localhost:8080/",
          "height": 52
        },
        "outputId": "de8524f4-8a45-4711-b5d7-33da73908d78"
      },
      "source": [
        "'''import pickle\n",
        "with open('/content/drive/My Drive/manual_process/inp.pkl','wb') as f:\n",
        "     pickle.dump(inp, f)\n",
        "with open('/content/drive/My Drive/manual_process/out.pkl','wb') as f:\n",
        "     pickle.dump(y, f)'''"
      ],
      "execution_count": 3,
      "outputs": [
        {
          "output_type": "execute_result",
          "data": {
            "text/plain": [
              "\"import pickle\\nwith open('/content/drive/My Drive/manual_process/inp.pkl','wb') as f:\\n     pickle.dump(inp, f)\\nwith open('/content/drive/My Drive/manual_process/out.pkl','wb') as f:\\n     pickle.dump(y, f)\""
            ],
            "application/vnd.google.colaboratory.intrinsic+json": {
              "type": "string"
            }
          },
          "metadata": {},
          "execution_count": 3
        }
      ]
    },
    {
      "cell_type": "code",
      "metadata": {
        "id": "juuiOnm9G3lE"
      },
      "source": [
        "import pickle\n",
        "import pandas as pd\n",
        "inp=pd.read_pickle('/content/drive/My Drive/manual_process/inp.pkl')\n",
        "y=pd.read_pickle('/content/drive/My Drive/manual_process/out.pkl')"
      ],
      "execution_count": 4,
      "outputs": []
    },
    {
      "cell_type": "code",
      "metadata": {
        "id": "Mk71X50LqulF",
        "colab": {
          "base_uri": "https://localhost:8080/"
        },
        "outputId": "985e5e35-7177-4fc9-93a9-ec95810c9b77"
      },
      "source": [
        "from google.colab import drive\n",
        "drive.mount('/content/drive')"
      ],
      "execution_count": 5,
      "outputs": [
        {
          "output_type": "stream",
          "name": "stdout",
          "text": [
            "Drive already mounted at /content/drive; to attempt to forcibly remount, call drive.mount(\"/content/drive\", force_remount=True).\n"
          ]
        }
      ]
    },
    {
      "cell_type": "code",
      "metadata": {
        "id": "ZxwY9lwgLXmM",
        "colab": {
          "base_uri": "https://localhost:8080/",
          "height": 469
        },
        "outputId": "deac54fa-8b28-4b91-e56e-a7fccf6f5957"
      },
      "source": [
        "import pandas as pd\n",
        "y=pd.DataFrame(y)\n",
        "y.hist()"
      ],
      "execution_count": 6,
      "outputs": [
        {
          "output_type": "execute_result",
          "data": {
            "text/plain": [
              "array([[<Axes: title={'center': '0'}>]], dtype=object)"
            ]
          },
          "metadata": {},
          "execution_count": 6
        },
        {
          "output_type": "display_data",
          "data": {
            "text/plain": [
              "<Figure size 640x480 with 1 Axes>"
            ],
            "image/png": "[encoded data removed]"
          },
          "metadata": {}
        }
      ]
    },
    {
      "cell_type": "code",
      "metadata": {
        "id": "1YvvC6ydJ2Jc"
      },
      "source": [
        "from sklearn.model_selection import train_test_split\n",
        "X_train, X_test, y_train, y_test = train_test_split(inp,y, test_size=0.33, random_state=42)"
      ],
      "execution_count": 7,
      "outputs": []
    },
    {
      "cell_type": "code",
      "metadata": {
        "id": "4sO9cC7CNIwo"
      },
      "source": [
        "import numpy as np\n",
        "X_train=np.array(X_train)\n",
        "X_test=np.array(X_test)"
      ],
      "execution_count": 8,
      "outputs": []
    },
    {
      "cell_type": "code",
      "metadata": {
        "id": "jjd9UK-jMU64",
        "colab": {
          "base_uri": "https://localhost:8080/"
        },
        "outputId": "c3c5f0f1-a1ed-4aea-af05-06c49d6459fb"
      },
      "source": [
        "X_train.shape"
      ],
      "execution_count": 9,
      "outputs": [
        {
          "output_type": "execute_result",
          "data": {
            "text/plain": [
              "(313, 128, 128, 1)"
            ]
          },
          "metadata": {},
          "execution_count": 9
        }
      ]
    },
    {
      "cell_type": "code",
      "metadata": {
        "id": "0OQ1_Da_Ll-5",
        "colab": {
          "base_uri": "https://localhost:8080/",
          "height": 469
        },
        "outputId": "9884a36c-0c90-42d6-8378-7443061b59e1"
      },
      "source": [
        "y_train.hist()"
      ],
      "execution_count": 10,
      "outputs": [
        {
          "output_type": "execute_result",
          "data": {
            "text/plain": [
              "array([[<Axes: title={'center': '0'}>]], dtype=object)"
            ]
          },
          "metadata": {},
          "execution_count": 10
        },
        {
          "output_type": "display_data",
          "data": {
            "text/plain": [
              "<Figure size 640x480 with 1 Axes>"
            ],
            "image/png": "[encoded data removed]"
          },
          "metadata": {}
        }
      ]
    },
    {
      "cell_type": "code",
      "metadata": {
        "id": "rrQqW8LZLvkh",
        "colab": {
          "base_uri": "https://localhost:8080/",
          "height": 469
        },
        "outputId": "0c579329-01c5-49e0-ce41-1d45f887ccb2"
      },
      "source": [
        "y_test.hist()"
      ],
      "execution_count": 11,
      "outputs": [
        {
          "output_type": "execute_result",
          "data": {
            "text/plain": [
              "array([[<Axes: title={'center': '0'}>]], dtype=object)"
            ]
          },
          "metadata": {},
          "execution_count": 11
        },
        {
          "output_type": "display_data",
          "data": {
            "text/plain": [
              "<Figure size 640x480 with 1 Axes>"
            ],
            "image/png": "[encoded data removed]"
          },
          "metadata": {}
        }
      ]
    },
    {
      "cell_type": "code",
      "metadata": {
        "id": "6XK7hW4ZLxWk",
        "colab": {
          "base_uri": "https://localhost:8080/"
        },
        "outputId": "992b2d01-6c18-4c85-9cb2-508e078b681f"
      },
      "source": [
        "from tensorflow import keras\n",
        "model=keras.Sequential()\n",
        "model.add(keras.layers.InputLayer(input_shape=(128,128,1)))\n",
        "model.add(keras.layers.BatchNormalization())\n",
        "model.add(keras.layers.Conv2D(32,kernel_size=(3,3),activation='relu'))\n",
        "model.add(keras.layers.Conv2D(64,kernel_size=(3,3),activation='relu'))\n",
        "model.add(keras.layers.MaxPool2D(pool_size=(2,2)))\n",
        "model.add(keras.layers.Dropout(0.5))\n",
        "model.add(keras.layers.Flatten())\n",
        "model.add(keras.layers.Dropout(0.5))\n",
        "model.add(keras.layers.Dense(1,activation='sigmoid'))\n",
        "model.compile(optimizer=keras.optimizers.Adam(learning_rate=0.001),loss='binary_crossentropy',metrics=['accuracy'])\n",
        "model.fit(X_train,y_train,batch_size=10,epochs=5)"
      ],
      "execution_count": 12,
      "outputs": [
        {
          "output_type": "stream",
          "name": "stdout",
          "text": [
            "Epoch 1/5\n",
            "32/32 [==============================] - 23s 676ms/step - loss: 0.5142 - accuracy: 0.7636\n",
            "Epoch 2/5\n",
            "32/32 [==============================] - 23s 733ms/step - loss: 0.2472 - accuracy: 0.8946\n",
            "Epoch 3/5\n",
            "32/32 [==============================] - 21s 662ms/step - loss: 0.1724 - accuracy: 0.9201\n",
            "Epoch 4/5\n",
            "32/32 [==============================] - 24s 763ms/step - loss: 0.1233 - accuracy: 0.9489\n",
            "Epoch 5/5\n",
            "32/32 [==============================] - 21s 646ms/step - loss: 0.0780 - accuracy: 0.9712\n"
          ]
        },
        {
          "output_type": "execute_result",
          "data": {
            "text/plain": [
              "<keras.src.callbacks.History at 0x7c44f128c730>"
            ]
          },
          "metadata": {},
          "execution_count": 12
        }
      ]
    },
    {
      "cell_type": "code",
      "metadata": {
        "id": "BgxA5F0iQpr2",
        "colab": {
          "base_uri": "https://localhost:8080/"
        },
        "outputId": "976160ac-34fe-454c-915f-a421689615a1"
      },
      "source": [
        "model.summary()"
      ],
      "execution_count": 13,
      "outputs": [
        {
          "output_type": "stream",
          "name": "stdout",
          "text": [
            "Model: \"sequential\"\n",
            "_________________________________________________________________\n",
            " Layer (type)                Output Shape              Param #   \n",
            "=================================================================\n",
            " batch_normalization (Batch  (None, 128, 128, 1)       4         \n",
            " Normalization)                                                  \n",
            "                                                                 \n",
            " conv2d (Conv2D)             (None, 126, 126, 32)      320       \n",
            "                                                                 \n",
            " conv2d_1 (Conv2D)           (None, 124, 124, 64)      18496     \n",
            "                                                                 \n",
            " max_pooling2d (MaxPooling2  (None, 62, 62, 64)        0         \n",
            " D)                                                              \n",
            "                                                                 \n",
            " dropout (Dropout)           (None, 62, 62, 64)        0         \n",
            "                                                                 \n",
            " flatten (Flatten)           (None, 246016)            0         \n",
            "                                                                 \n",
            " dropout_1 (Dropout)         (None, 246016)            0         \n",
            "                                                                 \n",
            " dense (Dense)               (None, 1)                 246017    \n",
            "                                                                 \n",
            "=================================================================\n",
            "Total params: 264837 (1.01 MB)\n",
            "Trainable params: 264835 (1.01 MB)\n",
            "Non-trainable params: 2 (8.00 Byte)\n",
            "_________________________________________________________________\n"
          ]
        }
      ]
    },
    {
      "cell_type": "code",
      "metadata": {
        "id": "TEN5Mlp4QvGc",
        "colab": {
          "base_uri": "https://localhost:8080/"
        },
        "outputId": "2b7d4833-28b9-4649-f707-5e94c0bf6735"
      },
      "source": [
        "#y_pred=model.predict_classes(X_test)\n",
        "y_pred = (model.predict(X_test) > 0.5).astype(\"int32\")\n",
        "from sklearn.metrics import accuracy_score\n",
        "accuracy_score(y_pred, y_test)"
      ],
      "execution_count": 16,
      "outputs": [
        {
          "output_type": "stream",
          "name": "stdout",
          "text": [
            "5/5 [==============================] - 4s 868ms/step\n"
          ]
        },
        {
          "output_type": "execute_result",
          "data": {
            "text/plain": [
              "0.9225806451612903"
            ]
          },
          "metadata": {},
          "execution_count": 16
        }
      ]
    },
    {
      "cell_type": "code",
      "metadata": {
        "id": "SUyuO9A7Q1uz"
      },
      "source": [
        "#model.save('/content/drive/My Drive/manual_process/model1.h5')"
      ],
      "execution_count": 18,
      "outputs": []
    },
    {
      "cell_type": "code",
      "metadata": {
        "id": "LGMFJ4zRQV6w",
        "colab": {
          "base_uri": "https://localhost:8080/"
        },
        "outputId": "8fc7a4e7-5321-4080-9b77-9e080c8f971e"
      },
      "source": [
        "from tensorflow import keras\n",
        "model1=keras.Sequential()\n",
        "model1.add(keras.layers.InputLayer(input_shape=(128,128,1)))\n",
        "model1.add(keras.layers.BatchNormalization())\n",
        "model1.add(keras.layers.Conv2D(16,kernel_size=(3,3),activation='relu'))\n",
        "model1.add(keras.layers.Conv2D(32,kernel_size=(3,3),activation='relu'))\n",
        "model1.add(keras.layers.MaxPool2D(pool_size=(2,2)))\n",
        "model1.add(keras.layers.Dropout(0.5))\n",
        "model1.add(keras.layers.Flatten())\n",
        "model1.add(keras.layers.Dropout(0.5))\n",
        "model1.add(keras.layers.Dense(1,activation='sigmoid'))\n",
        "model1.compile(optimizer=keras.optimizers.Adam(learning_rate=0.001),loss='binary_crossentropy',metrics=['accuracy'])\n",
        "model1.fit(X_train,y_train,batch_size=10,epochs=5,validation_split=0.2)"
      ],
      "execution_count": 19,
      "outputs": [
        {
          "output_type": "stream",
          "name": "stdout",
          "text": [
            "Epoch 1/5\n",
            "25/25 [==============================] - 9s 309ms/step - loss: 0.6111 - accuracy: 0.7480 - val_loss: 0.7599 - val_accuracy: 0.6508\n",
            "Epoch 2/5\n",
            "25/25 [==============================] - 9s 341ms/step - loss: 0.3587 - accuracy: 0.8800 - val_loss: 0.6389 - val_accuracy: 0.7460\n",
            "Epoch 3/5\n",
            "25/25 [==============================] - 8s 337ms/step - loss: 0.3204 - accuracy: 0.8760 - val_loss: 0.1910 - val_accuracy: 0.9365\n",
            "Epoch 4/5\n",
            "25/25 [==============================] - 8s 308ms/step - loss: 0.1898 - accuracy: 0.9200 - val_loss: 0.1757 - val_accuracy: 0.9365\n",
            "Epoch 5/5\n",
            "25/25 [==============================] - 9s 375ms/step - loss: 0.1384 - accuracy: 0.9640 - val_loss: 0.2171 - val_accuracy: 0.8889\n"
          ]
        },
        {
          "output_type": "execute_result",
          "data": {
            "text/plain": [
              "<keras.src.callbacks.History at 0x7c44f04a65f0>"
            ]
          },
          "metadata": {},
          "execution_count": 19
        }
      ]
    },
    {
      "cell_type": "code",
      "metadata": {
        "id": "qnns8efoMJY1",
        "colab": {
          "base_uri": "https://localhost:8080/"
        },
        "outputId": "fb4fa8c2-f3f6-4b89-ea4a-661ca400e56f"
      },
      "source": [
        "model1.summary()"
      ],
      "execution_count": 20,
      "outputs": [
        {
          "output_type": "stream",
          "name": "stdout",
          "text": [
            "Model: \"sequential_1\"\n",
            "_________________________________________________________________\n",
            " Layer (type)                Output Shape              Param #   \n",
            "=================================================================\n",
            " batch_normalization_1 (Bat  (None, 128, 128, 1)       4         \n",
            " chNormalization)                                                \n",
            "                                                                 \n",
            " conv2d_2 (Conv2D)           (None, 126, 126, 16)      160       \n",
            "                                                                 \n",
            " conv2d_3 (Conv2D)           (None, 124, 124, 32)      4640      \n",
            "                                                                 \n",
            " max_pooling2d_1 (MaxPoolin  (None, 62, 62, 32)        0         \n",
            " g2D)                                                            \n",
            "                                                                 \n",
            " dropout_2 (Dropout)         (None, 62, 62, 32)        0         \n",
            "                                                                 \n",
            " flatten_1 (Flatten)         (None, 123008)            0         \n",
            "                                                                 \n",
            " dropout_3 (Dropout)         (None, 123008)            0         \n",
            "                                                                 \n",
            " dense_1 (Dense)             (None, 1)                 123009    \n",
            "                                                                 \n",
            "=================================================================\n",
            "Total params: 127813 (499.27 KB)\n",
            "Trainable params: 127811 (499.26 KB)\n",
            "Non-trainable params: 2 (8.00 Byte)\n",
            "_________________________________________________________________\n"
          ]
        }
      ]
    },
    {
      "cell_type": "code",
      "metadata": {
        "id": "GpMI0BmQOFOq",
        "colab": {
          "base_uri": "https://localhost:8080/"
        },
        "outputId": "fead3fe2-6cb9-472c-f5ef-7e43a6df6430"
      },
      "source": [
        "#y_pred=model1.predict_classes(X_test)\n",
        "y_pred = (model1.predict(X_test) > 0.5).astype(\"int32\")\n",
        "from sklearn.metrics import accuracy_score\n",
        "accuracy_score(y_pred, y_test)"
      ],
      "execution_count": 23,
      "outputs": [
        {
          "output_type": "stream",
          "name": "stdout",
          "text": [
            "5/5 [==============================] - 1s 239ms/step\n"
          ]
        },
        {
          "output_type": "execute_result",
          "data": {
            "text/plain": [
              "0.864516129032258"
            ]
          },
          "metadata": {},
          "execution_count": 23
        }
      ]
    },
    {
      "cell_type": "code",
      "metadata": {
        "id": "dDh0wSuqSWxg"
      },
      "source": [
        "#model1.save('/content/drive/My Drive/manual_process/model2.h5')"
      ],
      "execution_count": 24,
      "outputs": []
    },
    {
      "cell_type": "code",
      "metadata": {
        "id": "g6akxreDSeE9",
        "colab": {
          "base_uri": "https://localhost:8080/"
        },
        "outputId": "b467e5a7-1a3b-44a7-9ec3-9f795126b851"
      },
      "source": [
        "from tensorflow import keras\n",
        "model1=keras.Sequential()\n",
        "model1.add(keras.layers.InputLayer(input_shape=(128,128,1)))\n",
        "model1.add(keras.layers.BatchNormalization())\n",
        "model1.add(keras.layers.Conv2D(64,kernel_size=(3,3),activation='relu'))\n",
        "model1.add(keras.layers.Conv2D(128,kernel_size=(3,3),activation='relu'))\n",
        "model1.add(keras.layers.MaxPool2D(pool_size=(2,2)))\n",
        "model1.add(keras.layers.Dropout(0.5))\n",
        "model1.add(keras.layers.Flatten())\n",
        "model1.add(keras.layers.Dropout(0.5))\n",
        "model1.add(keras.layers.Dense(1,activation='sigmoid'))\n",
        "model1.compile(optimizer=keras.optimizers.Adam(learning_rate=0.001),loss='binary_crossentropy',metrics=['accuracy'])\n",
        "model1.fit(X_train,y_train,batch_size=10,epochs=3,validation_split=0.2)"
      ],
      "execution_count": 25,
      "outputs": [
        {
          "output_type": "stream",
          "name": "stdout",
          "text": [
            "Epoch 1/3\n",
            "25/25 [==============================] - 61s 2s/step - loss: 0.7400 - accuracy: 0.6440 - val_loss: 0.4102 - val_accuracy: 0.8571\n",
            "Epoch 2/3\n",
            "25/25 [==============================] - 55s 2s/step - loss: 0.3808 - accuracy: 0.8240 - val_loss: 0.3834 - val_accuracy: 0.8254\n",
            "Epoch 3/3\n",
            "25/25 [==============================] - 56s 2s/step - loss: 0.2287 - accuracy: 0.9240 - val_loss: 1.6100 - val_accuracy: 0.5397\n"
          ]
        },
        {
          "output_type": "execute_result",
          "data": {
            "text/plain": [
              "<keras.src.callbacks.History at 0x7c44dfe06500>"
            ]
          },
          "metadata": {},
          "execution_count": 25
        }
      ]
    },
    {
      "cell_type": "code",
      "metadata": {
        "id": "l5cO0mCDTLtd",
        "colab": {
          "base_uri": "https://localhost:8080/"
        },
        "outputId": "dd7bfa2a-1cbb-40c2-8bfe-66dc5d78917b"
      },
      "source": [
        "model1.summary()"
      ],
      "execution_count": 26,
      "outputs": [
        {
          "output_type": "stream",
          "name": "stdout",
          "text": [
            "Model: \"sequential_2\"\n",
            "_________________________________________________________________\n",
            " Layer (type)                Output Shape              Param #   \n",
            "=================================================================\n",
            " batch_normalization_2 (Bat  (None, 128, 128, 1)       4         \n",
            " chNormalization)                                                \n",
            "                                                                 \n",
            " conv2d_4 (Conv2D)           (None, 126, 126, 64)      640       \n",
            "                                                                 \n",
            " conv2d_5 (Conv2D)           (None, 124, 124, 128)     73856     \n",
            "                                                                 \n",
            " max_pooling2d_2 (MaxPoolin  (None, 62, 62, 128)       0         \n",
            " g2D)                                                            \n",
            "                                                                 \n",
            " dropout_4 (Dropout)         (None, 62, 62, 128)       0         \n",
            "                                                                 \n",
            " flatten_2 (Flatten)         (None, 492032)            0         \n",
            "                                                                 \n",
            " dropout_5 (Dropout)         (None, 492032)            0         \n",
            "                                                                 \n",
            " dense_2 (Dense)             (None, 1)                 492033    \n",
            "                                                                 \n",
            "=================================================================\n",
            "Total params: 566533 (2.16 MB)\n",
            "Trainable params: 566531 (2.16 MB)\n",
            "Non-trainable params: 2 (8.00 Byte)\n",
            "_________________________________________________________________\n"
          ]
        }
      ]
    },
    {
      "cell_type": "code",
      "metadata": {
        "id": "vZ0HmZfxTOqG",
        "colab": {
          "base_uri": "https://localhost:8080/"
        },
        "outputId": "c387dc94-bad2-4106-f75b-13fd104a1319"
      },
      "source": [
        "#y_pred=model1.predict_classes(X_test)\n",
        "y_pred = (model1.predict(X_test) > 0.5).astype(\"int32\")\n",
        "from sklearn.metrics import accuracy_score\n",
        "accuracy_score(y_pred, y_test)"
      ],
      "execution_count": 28,
      "outputs": [
        {
          "output_type": "stream",
          "name": "stdout",
          "text": [
            "5/5 [==============================] - 10s 2s/step\n"
          ]
        },
        {
          "output_type": "execute_result",
          "data": {
            "text/plain": [
              "0.5161290322580645"
            ]
          },
          "metadata": {},
          "execution_count": 28
        }
      ]
    },
    {
      "cell_type": "code",
      "metadata": {
        "id": "F9YQ3_S3TbRH"
      },
      "source": [
        "#model1.save('/content/drive/My Drive/manual_process/model3.h5')"
      ],
      "execution_count": null,
      "outputs": []
    },
    {
      "cell_type": "code",
      "metadata": {
        "id": "7R3H60-YTfhE"
      },
      "source": [
        "from keras.models import load_model\n",
        "m1 = load_model('/content/drive/My Drive/manual_process/model1.h5')\n",
        "m2 = load_model('/content/drive/My Drive/manual_process/model2.h5')\n",
        "m3 = load_model('/content/drive/My Drive/manual_process/model3.h5')"
      ],
      "execution_count": 29,
      "outputs": []
    },
    {
      "cell_type": "code",
      "metadata": {
        "colab": {
          "base_uri": "https://localhost:8080/"
        },
        "id": "Zul9XxRETYxt",
        "outputId": "024a8655-6d78-4649-d354-d4523f75c7ff"
      },
      "source": [
        "m1.summary()"
      ],
      "execution_count": 30,
      "outputs": [
        {
          "output_type": "stream",
          "name": "stdout",
          "text": [
            "Model: \"sequential_7\"\n",
            "_________________________________________________________________\n",
            " Layer (type)                Output Shape              Param #   \n",
            "=================================================================\n",
            " batch_normalization_7 (Bat  (None, 128, 128, 1)       4         \n",
            " chNormalization)                                                \n",
            "                                                                 \n",
            " conv2d_14 (Conv2D)          (None, 126, 126, 32)      320       \n",
            "                                                                 \n",
            " conv2d_15 (Conv2D)          (None, 124, 124, 64)      18496     \n",
            "                                                                 \n",
            " max_pooling2d_7 (MaxPoolin  (None, 62, 62, 64)        0         \n",
            " g2D)                                                            \n",
            "                                                                 \n",
            " dropout_14 (Dropout)        (None, 62, 62, 64)        0         \n",
            "                                                                 \n",
            " flatten_7 (Flatten)         (None, 246016)            0         \n",
            "                                                                 \n",
            " dropout_15 (Dropout)        (None, 246016)            0         \n",
            "                                                                 \n",
            " dense_7 (Dense)             (None, 1)                 246017    \n",
            "                                                                 \n",
            "=================================================================\n",
            "Total params: 264837 (1.01 MB)\n",
            "Trainable params: 264835 (1.01 MB)\n",
            "Non-trainable params: 2 (8.00 Byte)\n",
            "_________________________________________________________________\n"
          ]
        }
      ]
    },
    {
      "cell_type": "code",
      "metadata": {
        "id": "q2KJIYJ4TFgV",
        "colab": {
          "base_uri": "https://localhost:8080/",
          "height": 35
        },
        "outputId": "c6e73abd-5374-4287-9e20-7e995d7b8a49"
      },
      "source": [
        "'''m1.save_weights('Pneumonia_wigth.h5')'''"
      ],
      "execution_count": 31,
      "outputs": [
        {
          "output_type": "execute_result",
          "data": {
            "text/plain": [
              "\"m1.save_weights('Pneumonia_wigth.h5')\""
            ],
            "application/vnd.google.colaboratory.intrinsic+json": {
              "type": "string"
            }
          },
          "metadata": {},
          "execution_count": 31
        }
      ]
    },
    {
      "cell_type": "code",
      "metadata": {
        "id": "VvLr4GpJPz_D",
        "colab": {
          "base_uri": "https://localhost:8080/"
        },
        "outputId": "322b3d3c-3f25-415b-c726-2f92a198bb43"
      },
      "source": [
        "#y1=m1.predict_proba(X_test)\n",
        "y1 = (m1.predict(X_test) > 0.5).astype(\"int32\")\n",
        "#y2=m3.predict_proba(X_test)\n",
        "y2 = (m3.predict(X_test) > 0.5).astype(\"int32\")\n",
        "#y3=m2.predict_proba(X_test)\n",
        "y3 = (m2.predict(X_test) > 0.5).astype(\"int32\")\n",
        "y1=(y1+y2+y3)/3\n",
        "y3=y1.round()\n",
        "accuracy_score(y3, y_test)"
      ],
      "execution_count": 33,
      "outputs": [
        {
          "output_type": "stream",
          "name": "stdout",
          "text": [
            "5/5 [==============================] - 4s 635ms/step\n",
            "5/5 [==============================] - 8s 2s/step\n",
            "5/5 [==============================] - 2s 308ms/step\n"
          ]
        },
        {
          "output_type": "execute_result",
          "data": {
            "text/plain": [
              "0.8903225806451613"
            ]
          },
          "metadata": {},
          "execution_count": 33
        }
      ]
    },
    {
      "cell_type": "code",
      "metadata": {
        "id": "7X7--LdgIW-J",
        "colab": {
          "base_uri": "https://localhost:8080/",
          "height": 976
        },
        "outputId": "4af24758-d92d-4b21-aa7f-d36a676ea927"
      },
      "source": [
        "from tensorflow.keras.utils import plot_model\n",
        "plot_model(m1, to_file='model_plot.png', show_shapes=True, show_layer_names=True)"
      ],
      "execution_count": 35,
      "outputs": [
        {
          "output_type": "execute_result",
          "data": {
            "image/png": "[encoded data removed]",
            "text/plain": [
              "<IPython.core.display.Image object>"
            ]
          },
          "metadata": {},
          "execution_count": 35
        }
      ]
    }
  ]
}